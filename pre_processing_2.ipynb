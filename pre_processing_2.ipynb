{
  "nbformat": 4,
  "nbformat_minor": 0,
  "metadata": {
    "colab": {
      "provenance": [],
      "authorship_tag": "ABX9TyPZEiY3C0qoSgphxQ8kIu5t",
      "include_colab_link": true
    },
    "kernelspec": {
      "name": "python3",
      "display_name": "Python 3"
    },
    "language_info": {
      "name": "python"
    }
  },
  "cells": [
    {
      "cell_type": "markdown",
      "metadata": {
        "id": "view-in-github",
        "colab_type": "text"
      },
      "source": [
        "<a href=\"https://colab.research.google.com/github/vathsal14/first-demo/blob/main/pre_processing_2.ipynb\" target=\"_parent\"><img src=\"https://colab.research.google.com/assets/colab-badge.svg\" alt=\"Open In Colab\"/></a>"
      ]
    },
    {
      "cell_type": "code",
      "execution_count": 3,
      "metadata": {
        "colab": {
          "base_uri": "https://localhost:8080/"
        },
        "id": "UI5p_NOBU86w",
        "outputId": "ab8b20ba-1747-4f6a-b6f7-23411fcbcf07"
      },
      "outputs": [
        {
          "output_type": "stream",
          "name": "stdout",
          "text": [
            "Collecting mne\n",
            "  Downloading mne-1.8.0-py3-none-any.whl.metadata (21 kB)\n",
            "Requirement already satisfied: decorator in /usr/local/lib/python3.10/dist-packages (from mne) (4.4.2)\n",
            "Requirement already satisfied: jinja2 in /usr/local/lib/python3.10/dist-packages (from mne) (3.1.4)\n",
            "Requirement already satisfied: lazy-loader>=0.3 in /usr/local/lib/python3.10/dist-packages (from mne) (0.4)\n",
            "Requirement already satisfied: matplotlib>=3.6 in /usr/local/lib/python3.10/dist-packages (from mne) (3.8.0)\n",
            "Requirement already satisfied: numpy<3,>=1.23 in /usr/local/lib/python3.10/dist-packages (from mne) (1.26.4)\n",
            "Requirement already satisfied: packaging in /usr/local/lib/python3.10/dist-packages (from mne) (24.2)\n",
            "Requirement already satisfied: pooch>=1.5 in /usr/local/lib/python3.10/dist-packages (from mne) (1.8.2)\n",
            "Requirement already satisfied: scipy>=1.9 in /usr/local/lib/python3.10/dist-packages (from mne) (1.13.1)\n",
            "Requirement already satisfied: tqdm in /usr/local/lib/python3.10/dist-packages (from mne) (4.66.6)\n",
            "Requirement already satisfied: contourpy>=1.0.1 in /usr/local/lib/python3.10/dist-packages (from matplotlib>=3.6->mne) (1.3.1)\n",
            "Requirement already satisfied: cycler>=0.10 in /usr/local/lib/python3.10/dist-packages (from matplotlib>=3.6->mne) (0.12.1)\n",
            "Requirement already satisfied: fonttools>=4.22.0 in /usr/local/lib/python3.10/dist-packages (from matplotlib>=3.6->mne) (4.55.3)\n",
            "Requirement already satisfied: kiwisolver>=1.0.1 in /usr/local/lib/python3.10/dist-packages (from matplotlib>=3.6->mne) (1.4.7)\n",
            "Requirement already satisfied: pillow>=6.2.0 in /usr/local/lib/python3.10/dist-packages (from matplotlib>=3.6->mne) (11.0.0)\n",
            "Requirement already satisfied: pyparsing>=2.3.1 in /usr/local/lib/python3.10/dist-packages (from matplotlib>=3.6->mne) (3.2.0)\n",
            "Requirement already satisfied: python-dateutil>=2.7 in /usr/local/lib/python3.10/dist-packages (from matplotlib>=3.6->mne) (2.8.2)\n",
            "Requirement already satisfied: platformdirs>=2.5.0 in /usr/local/lib/python3.10/dist-packages (from pooch>=1.5->mne) (4.3.6)\n",
            "Requirement already satisfied: requests>=2.19.0 in /usr/local/lib/python3.10/dist-packages (from pooch>=1.5->mne) (2.32.3)\n",
            "Requirement already satisfied: MarkupSafe>=2.0 in /usr/local/lib/python3.10/dist-packages (from jinja2->mne) (3.0.2)\n",
            "Requirement already satisfied: six>=1.5 in /usr/local/lib/python3.10/dist-packages (from python-dateutil>=2.7->matplotlib>=3.6->mne) (1.17.0)\n",
            "Requirement already satisfied: charset-normalizer<4,>=2 in /usr/local/lib/python3.10/dist-packages (from requests>=2.19.0->pooch>=1.5->mne) (3.4.0)\n",
            "Requirement already satisfied: idna<4,>=2.5 in /usr/local/lib/python3.10/dist-packages (from requests>=2.19.0->pooch>=1.5->mne) (3.10)\n",
            "Requirement already satisfied: urllib3<3,>=1.21.1 in /usr/local/lib/python3.10/dist-packages (from requests>=2.19.0->pooch>=1.5->mne) (2.2.3)\n",
            "Requirement already satisfied: certifi>=2017.4.17 in /usr/local/lib/python3.10/dist-packages (from requests>=2.19.0->pooch>=1.5->mne) (2024.8.30)\n",
            "Downloading mne-1.8.0-py3-none-any.whl (7.4 MB)\n",
            "\u001b[2K   \u001b[90m━━━━━━━━━━━━━━━━━━━━━━━━━━━━━━━━━━━━━━━━\u001b[0m \u001b[32m7.4/7.4 MB\u001b[0m \u001b[31m52.9 MB/s\u001b[0m eta \u001b[36m0:00:00\u001b[0m\n",
            "\u001b[?25hInstalling collected packages: mne\n",
            "Successfully installed mne-1.8.0\n"
          ]
        }
      ],
      "source": [
        "\n",
        "pip install mne\n"
      ]
    },
    {
      "cell_type": "code",
      "source": [
        "import mne\n",
        "import pandas as pd\n",
        "import numpy as np\n",
        "eeg_data = pd.read_csv(\"data.csv\")"
      ],
      "metadata": {
        "id": "5IHIENauVC-L"
      },
      "execution_count": 4,
      "outputs": []
    },
    {
      "cell_type": "code",
      "source": [
        "eeg_data_cleaned = eeg_data.drop(columns=[\"Unnamed: 0\"])\n",
        "\n",
        "\n",
        "X = eeg_data_cleaned.drop(columns=[\"y\"]).values\n",
        "y = eeg_data_cleaned[\"y\"].values\n",
        "\n",
        "\n",
        "n_channels = X.shape[1]\n",
        "sfreq = 250\n",
        "ch_names = [f\"Ch{i}\" for i in range(1, n_channels + 1)]\n",
        "info = mne.create_info(ch_names=ch_names, sfreq=sfreq, ch_types=\"eeg\")\n",
        "\n",
        "\n",
        "raw = mne.io.RawArray(X.T, info)"
      ],
      "metadata": {
        "colab": {
          "base_uri": "https://localhost:8080/"
        },
        "id": "8Tpin250VJfx",
        "outputId": "cf42a848-6e0d-4606-9c0f-7b057dc4ed08"
      },
      "execution_count": 10,
      "outputs": [
        {
          "output_type": "stream",
          "name": "stdout",
          "text": [
            "Creating RawArray with float64 data, n_channels=178, n_times=3156\n",
            "    Range : 0 ... 3155 =      0.000 ...    12.620 secs\n",
            "Ready.\n"
          ]
        }
      ]
    },
    {
      "cell_type": "code",
      "source": [
        "raw.filter(l_freq=1.0, h_freq=50.0)\n",
        "raw.notch_filter(freqs=50.0)"
      ],
      "metadata": {
        "colab": {
          "base_uri": "https://localhost:8080/",
          "height": 967
        },
        "id": "XRGx9jKuVWvx",
        "outputId": "bcc6461b-6ee4-456d-b8bc-57f52788d1da"
      },
      "execution_count": 11,
      "outputs": [
        {
          "output_type": "stream",
          "name": "stdout",
          "text": [
            "Filtering raw data in 1 contiguous segment\n",
            "Setting up band-pass filter from 1 - 50 Hz\n",
            "\n",
            "FIR filter parameters\n",
            "---------------------\n",
            "Designing a one-pass, zero-phase, non-causal bandpass filter:\n",
            "- Windowed time-domain design (firwin) method\n",
            "- Hamming window with 0.0194 passband ripple and 53 dB stopband attenuation\n",
            "- Lower passband edge: 1.00\n",
            "- Lower transition bandwidth: 1.00 Hz (-6 dB cutoff frequency: 0.50 Hz)\n",
            "- Upper passband edge: 50.00 Hz\n",
            "- Upper transition bandwidth: 12.50 Hz (-6 dB cutoff frequency: 56.25 Hz)\n",
            "- Filter length: 825 samples (3.300 s)\n",
            "\n",
            "Filtering raw data in 1 contiguous segment\n",
            "Setting up band-stop filter from 49 - 51 Hz\n"
          ]
        },
        {
          "output_type": "stream",
          "name": "stderr",
          "text": [
            "[Parallel(n_jobs=1)]: Done  17 tasks      | elapsed:    0.0s\n",
            "[Parallel(n_jobs=1)]: Done  71 tasks      | elapsed:    0.1s\n",
            "[Parallel(n_jobs=1)]: Done 161 tasks      | elapsed:    0.2s\n"
          ]
        },
        {
          "output_type": "stream",
          "name": "stdout",
          "text": [
            "\n",
            "FIR filter parameters\n",
            "---------------------\n",
            "Designing a one-pass, zero-phase, non-causal bandstop filter:\n",
            "- Windowed time-domain design (firwin) method\n",
            "- Hamming window with 0.0194 passband ripple and 53 dB stopband attenuation\n",
            "- Lower passband edge: 49.38\n",
            "- Lower transition bandwidth: 0.50 Hz (-6 dB cutoff frequency: 49.12 Hz)\n",
            "- Upper passband edge: 50.62 Hz\n",
            "- Upper transition bandwidth: 0.50 Hz (-6 dB cutoff frequency: 50.88 Hz)\n",
            "- Filter length: 1651 samples (6.604 s)\n",
            "\n"
          ]
        },
        {
          "output_type": "stream",
          "name": "stderr",
          "text": [
            "[Parallel(n_jobs=1)]: Done  17 tasks      | elapsed:    0.0s\n",
            "[Parallel(n_jobs=1)]: Done  71 tasks      | elapsed:    0.1s\n",
            "[Parallel(n_jobs=1)]: Done 161 tasks      | elapsed:    0.1s\n"
          ]
        },
        {
          "output_type": "execute_result",
          "data": {
            "text/plain": [
              "<RawArray | 178 x 3156 (12.6 s), ~4.5 MB, data loaded>"
            ],
            "text/html": [
              "<script type=\"text/javascript\">\n",
              "    const toggleVisibility = (className) => {\n",
              "\n",
              "  const elements = document.querySelectorAll(`.${className}`)\n",
              "\n",
              "  elements.forEach(element => {\n",
              "    if (element.classList.contains('repr-section-header')) {\n",
              "      // Don't collapse the section header row.\n",
              "       return\n",
              "    }\n",
              "    if (element.classList.contains('repr-element-collapsed')) {\n",
              "      // Force a reflow to ensure the display change takes effect before removing the class\n",
              "      element.classList.remove('repr-element-collapsed')\n",
              "      element.offsetHeight // This forces the browser to recalculate layout\n",
              "      element.classList.remove('repr-element-faded')\n",
              "    } else {\n",
              "      // Start transition to hide the element\n",
              "      element.classList.add('repr-element-faded')\n",
              "      element.addEventListener('transitionend', handler = (e) => {\n",
              "        if (e.propertyName === 'opacity' && getComputedStyle(element).opacity === '0.2') {\n",
              "          element.classList.add('repr-element-collapsed')\n",
              "          element.removeEventListener('transitionend', handler)\n",
              "        }\n",
              "      });\n",
              "    }\n",
              "  });\n",
              "\n",
              "  // Take care of button (adjust caret)\n",
              "  const button = document.querySelectorAll(`.repr-section-header.${className} > th.repr-section-toggle-col > button`)[0]\n",
              "  button.classList.toggle('collapsed')\n",
              "\n",
              "  // Take care of the tooltip of the section header row\n",
              "  const sectionHeaderRow = document.querySelectorAll(`tr.repr-section-header.${className}`)[0]\n",
              "  sectionHeaderRow.classList.toggle('collapsed')\n",
              "  sectionHeaderRow.title = sectionHeaderRow.title === 'Hide section' ? 'Show section' : 'Hide section'\n",
              "}\n",
              "</script>\n",
              "\n",
              "<style type=\"text/css\">\n",
              "    table.repr.table.table-hover.table-striped.table-sm.table-responsive.small {\n",
              "  /* Don't make rows wider than they need to be. */\n",
              "  display: inline;\n",
              "}\n",
              "\n",
              "table > tbody > tr.repr-element > td {\n",
              "  /* Apply a tighter layout to the table cells. */\n",
              "  padding-top: 0.1rem;\n",
              "  padding-bottom: 0.1rem;\n",
              "  padding-right: 1rem;\n",
              "}\n",
              "\n",
              "table > tbody > tr > td.repr-section-toggle-col {\n",
              "  /* Remove background and border of the first cell in every row\n",
              "     (this row is only used for the collapse / uncollapse caret)\n",
              "\n",
              "     TODO: Need to find a good solution for VS Code that works in both\n",
              "           light and dark mode. */\n",
              "  border-color: transparent;\n",
              "  --bs-table-accent-bg: transparent;\n",
              "}\n",
              "\n",
              "tr.repr-section-header {\n",
              "  /* Remove stripes from section header rows */\n",
              "  background-color: transparent;\n",
              "  border-color: transparent;\n",
              "  --bs-table-striped-bg: transparent;\n",
              "  cursor: pointer;\n",
              "}\n",
              "\n",
              "tr.repr-section-header > th {\n",
              "  text-align: left !important;\n",
              "  vertical-align: middle;\n",
              "}\n",
              "\n",
              ".repr-element, tr.repr-element > td {\n",
              "  opacity: 1;\n",
              "  text-align: left !important;\n",
              "}\n",
              "\n",
              ".repr-element-faded {\n",
              "  transition: 0.3s ease;\n",
              "  opacity: 0.2;\n",
              "}\n",
              "\n",
              ".repr-element-collapsed {\n",
              "  display: none;\n",
              "}\n",
              "\n",
              "/* Collapse / uncollapse button and the caret it contains. */\n",
              ".repr-section-toggle-col button {\n",
              "  cursor: pointer;\n",
              "  width: 1rem;\n",
              "  background-color: transparent;\n",
              "  border-color: transparent;\n",
              "}\n",
              "\n",
              "span.collapse-uncollapse-caret {\n",
              "  width: 1rem;\n",
              "  height: 1rem;\n",
              "  display: block;\n",
              "  background-repeat: no-repeat;\n",
              "  background-position: left;\n",
              "  background-size: contain;\n",
              "}\n",
              "\n",
              "/* The collapse / uncollapse carets were copied from the free Font Awesome collection and adjusted. */\n",
              "\n",
              "/* Default to black carets for light mode */\n",
              ".repr-section-toggle-col > button.collapsed > span.collapse-uncollapse-caret {\n",
              "  background-image: url('data:image/svg+xml;charset=utf8,<svg xmlns=\"http://www.w3.org/2000/svg\" viewBox=\"0 0 256 512\"><!--!Font Awesome Free 6.5.2 by @fontawesome - https://fontawesome.com License - https://fontawesome.com/license/free Copyright 2024 Fonticons, Inc.--><path fill=\"black\" d=\"M246.6 278.6c12.5-12.5 12.5-32.8 0-45.3l-128-128c-9.2-9.2-22.9-11.9-34.9-6.9s-19.8 16.6-19.8 29.6l0 256c0 12.9 7.8 24.6 19.8 29.6s25.7 2.2 34.9-6.9l128-128z\"/></svg>');\n",
              "}\n",
              "\n",
              ".repr-section-toggle-col\n",
              "  > button:not(.collapsed)\n",
              "  > span.collapse-uncollapse-caret {\n",
              "  background-image: url('data:image/svg+xml;charset=utf8,<svg xmlns=\"http://www.w3.org/2000/svg\" viewBox=\"0 0 320 512\"><!--!Font Awesome Free 6.5.2 by @fontawesome - https://fontawesome.com License - https://fontawesome.com/license/free Copyright 2024 Fonticons, Inc.--><path fill=\"black\" d=\"M137.4 374.6c12.5 12.5 32.8 12.5 45.3 0l128-128c9.2-9.2 11.9-22.9 6.9-34.9s-16.6-19.8-29.6-19.8L32 192c-12.9 0-24.6 7.8-29.6 19.8s-2.2 25.7 6.9 34.9l128 128z\"/></svg>');\n",
              "}\n",
              "\n",
              "/* Use white carets for dark mode */\n",
              "@media (prefers-color-scheme: dark) {\n",
              "  .repr-section-toggle-col > button.collapsed > span.collapse-uncollapse-caret {\n",
              "    background-image: url('data:image/svg+xml;charset=utf8,<svg xmlns=\"http://www.w3.org/2000/svg\" viewBox=\"0 0 256 512\"><!--!Font Awesome Free 6.5.2 by @fontawesome - https://fontawesome.com License - https://fontawesome.com/license/free Copyright 2024 Fonticons, Inc.--><path fill=\"white\" d=\"M246.6 278.6c12.5-12.5 12.5-32.8 0-45.3l-128-128c-9.2-9.2-22.9-11.9-34.9-6.9s-19.8 16.6-19.8 29.6l0 256c0 12.9 7.8 24.6 19.8 29.6s25.7 2.2 34.9-6.9l128-128z\"/></svg>');\n",
              "  }\n",
              "\n",
              "  .repr-section-toggle-col\n",
              "    > button:not(.collapsed)\n",
              "    > span.collapse-uncollapse-caret {\n",
              "    background-image: url('data:image/svg+xml;charset=utf8,<svg xmlns=\"http://www.w3.org/2000/svg\" viewBox=\"0 0 320 512\"><!--!Font Awesome Free 6.5.2 by @fontawesome - https://fontawesome.com License - https://fontawesome.com/license/free Copyright 2024 Fonticons, Inc.--><path fill=\"white\" d=\"M137.4 374.6c12.5 12.5 32.8 12.5 45.3 0l128-128c9.2-9.2 11.9-22.9 6.9-34.9s-16.6-19.8-29.6-19.8L32 192c-12.9 0-24.6 7.8-29.6 19.8s-2.2 25.7 6.9 34.9l128 128z\"/></svg>');\n",
              "  }\n",
              "}\n",
              "\n",
              ".channel-names-btn {\n",
              "  padding: 0;\n",
              "  border: none;\n",
              "  background: none;\n",
              "  text-decoration: underline;\n",
              "  text-decoration-style: dashed;\n",
              "  cursor: pointer;\n",
              "  color: #0d6efd;\n",
              "}\n",
              "\n",
              ".channel-names-btn:hover {\n",
              "  color: #0a58ca;\n",
              "}\n",
              "</style>\n",
              "\n",
              "\n",
              "\n",
              "<table class=\"repr table table-hover table-striped table-sm table-responsive small\">\n",
              "    \n",
              "\n",
              "\n",
              "\n",
              "\n",
              "\n",
              "\n",
              "\n",
              "<tr class=\"repr-section-header general-24508484-edad-4fac-89c8-25f8f50ccd2f\"  title=\"Hide section\" \n",
              "    onclick=\"toggleVisibility('general-24508484-edad-4fac-89c8-25f8f50ccd2f')\">\n",
              "    <th class=\"repr-section-toggle-col\">\n",
              "        <button>\n",
              "            \n",
              "            <span class=\"collapse-uncollapse-caret\"></span>\n",
              "        </button>\n",
              "    </th>\n",
              "    <th colspan=\"2\">\n",
              "        <strong>General</strong>\n",
              "    </th>\n",
              "</tr>\n",
              "\n",
              "<tr class=\"repr-element general-24508484-edad-4fac-89c8-25f8f50ccd2f \">\n",
              "    <td class=\"repr-section-toggle-col\"></td>\n",
              "    <td>MNE object type</td>\n",
              "    <td>RawArray</td>\n",
              "</tr>\n",
              "<tr class=\"repr-element general-24508484-edad-4fac-89c8-25f8f50ccd2f \">\n",
              "    <td class=\"repr-section-toggle-col\"></td>\n",
              "    <td>Measurement date</td>\n",
              "    \n",
              "    <td>Unknown</td>\n",
              "    \n",
              "</tr>\n",
              "<tr class=\"repr-element general-24508484-edad-4fac-89c8-25f8f50ccd2f \">\n",
              "    <td class=\"repr-section-toggle-col\"></td>\n",
              "    <td>Participant</td>\n",
              "    \n",
              "    <td>Unknown</td>\n",
              "    \n",
              "</tr>\n",
              "<tr class=\"repr-element general-24508484-edad-4fac-89c8-25f8f50ccd2f \">\n",
              "    <td class=\"repr-section-toggle-col\"></td>\n",
              "    <td>Experimenter</td>\n",
              "    \n",
              "    <td>Unknown</td>\n",
              "    \n",
              "</tr>\n",
              "    \n",
              "\n",
              "\n",
              "\n",
              "\n",
              "\n",
              "\n",
              "\n",
              "<tr class=\"repr-section-header acquisition-a8aed2c2-55a3-4e84-8a97-983a4481c55c\" \n",
              "    title=\"Hide section\"  onclick=\"toggleVisibility('acquisition-a8aed2c2-55a3-4e84-8a97-983a4481c55c')\">\n",
              "    <th class=\"repr-section-toggle-col\">\n",
              "        <button>\n",
              "            \n",
              "            <span class=\"collapse-uncollapse-caret\"></span>\n",
              "        </button>\n",
              "    </th>\n",
              "    <th colspan=\"2\">\n",
              "        <strong>Acquisition</strong>\n",
              "    </th>\n",
              "</tr>\n",
              "\n",
              "<tr class=\"repr-element acquisition-a8aed2c2-55a3-4e84-8a97-983a4481c55c \">\n",
              "    <td class=\"repr-section-toggle-col\"></td>\n",
              "    <td>Duration</td>\n",
              "    <td>00:00:13 (HH:MM:SS)</td>\n",
              "</tr>\n",
              "\n",
              "\n",
              "\n",
              "\n",
              "\n",
              "\n",
              "\n",
              "\n",
              "<tr class=\"repr-element acquisition-a8aed2c2-55a3-4e84-8a97-983a4481c55c \">\n",
              "    <td class=\"repr-section-toggle-col\"></td>\n",
              "    <td>Sampling frequency</td>\n",
              "    <td>250.00 Hz</td>\n",
              "</tr>\n",
              "\n",
              "\n",
              "<tr class=\"repr-element acquisition-a8aed2c2-55a3-4e84-8a97-983a4481c55c \">\n",
              "    <td class=\"repr-section-toggle-col\"></td>\n",
              "    <td>Time points</td>\n",
              "    <td>3,156</td>\n",
              "</tr>\n",
              "\n",
              "\n",
              "    \n",
              "\n",
              "\n",
              "\n",
              "\n",
              "\n",
              "\n",
              "\n",
              "<tr class=\"repr-section-header channels-c968189f-a9c0-41db-93d0-ac003e49f768\"  title=\"Hide section\" \n",
              "    onclick=\"toggleVisibility('channels-c968189f-a9c0-41db-93d0-ac003e49f768')\">\n",
              "    <th class=\"repr-section-toggle-col\">\n",
              "        <button>\n",
              "            \n",
              "            <span class=\"collapse-uncollapse-caret\"></span>\n",
              "        </button>\n",
              "    </th>\n",
              "    <th colspan=\"2\">\n",
              "        <strong>Channels</strong>\n",
              "    </th>\n",
              "</tr>\n",
              "\n",
              "\n",
              "<tr class=\"repr-element channels-c968189f-a9c0-41db-93d0-ac003e49f768 \">\n",
              "    <td class=\"repr-section-toggle-col\"></td>\n",
              "    <td>EEG</td>\n",
              "    <td>\n",
              "        <button class=\"channel-names-btn\" onclick=\"alert('Good EEG:\\n\\nCh1, Ch2, Ch3, Ch4, Ch5, Ch6, Ch7, Ch8, Ch9, Ch10, Ch11, Ch12, Ch13, Ch14, Ch15, Ch16, Ch17, Ch18, Ch19, Ch20, Ch21, Ch22, Ch23, Ch24, Ch25, Ch26, Ch27, Ch28, Ch29, Ch30, Ch31, Ch32, Ch33, Ch34, Ch35, Ch36, Ch37, Ch38, Ch39, Ch40, Ch41, Ch42, Ch43, Ch44, Ch45, Ch46, Ch47, Ch48, Ch49, Ch50, Ch51, Ch52, Ch53, Ch54, Ch55, Ch56, Ch57, Ch58, Ch59, Ch60, Ch61, Ch62, Ch63, Ch64, Ch65, Ch66, Ch67, Ch68, Ch69, Ch70, Ch71, Ch72, Ch73, Ch74, Ch75, Ch76, Ch77, Ch78, Ch79, Ch80, Ch81, Ch82, Ch83, Ch84, Ch85, Ch86, Ch87, Ch88, Ch89, Ch90, Ch91, Ch92, Ch93, Ch94, Ch95, Ch96, Ch97, Ch98, Ch99, Ch100, Ch101, Ch102, Ch103, Ch104, Ch105, Ch106, Ch107, Ch108, Ch109, Ch110, Ch111, Ch112, Ch113, Ch114, Ch115, Ch116, Ch117, Ch118, Ch119, Ch120, Ch121, Ch122, Ch123, Ch124, Ch125, Ch126, Ch127, Ch128, Ch129, Ch130, Ch131, Ch132, Ch133, Ch134, Ch135, Ch136, Ch137, Ch138, Ch139, Ch140, Ch141, Ch142, Ch143, Ch144, Ch145, Ch146, Ch147, Ch148, Ch149, Ch150, Ch151, Ch152, Ch153, Ch154, Ch155, Ch156, Ch157, Ch158, Ch159, Ch160, Ch161, Ch162, Ch163, Ch164, Ch165, Ch166, Ch167, Ch168, Ch169, Ch170, Ch171, Ch172, Ch173, Ch174, Ch175, Ch176, Ch177, Ch178')\" title=\"(Click to open in popup)&#13;&#13;Ch1, Ch2, Ch3, Ch4, Ch5, Ch6, Ch7, Ch8, Ch9, Ch10, Ch11, Ch12, Ch13, Ch14, Ch15, Ch16, Ch17, Ch18, Ch19, Ch20, Ch21, Ch22, Ch23, Ch24, Ch25, Ch26, Ch27, Ch28, Ch29, Ch30, Ch31, Ch32, Ch33, Ch34, Ch35, Ch36, Ch37, Ch38, Ch39, Ch40, Ch41, Ch42, Ch43, Ch44, Ch45, Ch46, Ch47, Ch48, Ch49, Ch50, Ch51, Ch52, Ch53, Ch54, Ch55, Ch56, Ch57, Ch58, Ch59, Ch60, Ch61, Ch62, Ch63, Ch64, Ch65, Ch66, Ch67, Ch68, Ch69, Ch70, Ch71, Ch72, Ch73, Ch74, Ch75, Ch76, Ch77, Ch78, Ch79, Ch80, Ch81, Ch82, Ch83, Ch84, Ch85, Ch86, Ch87, Ch88, Ch89, Ch90, Ch91, Ch92, Ch93, Ch94, Ch95, Ch96, Ch97, Ch98, Ch99, Ch100, Ch101, Ch102, Ch103, Ch104, Ch105, Ch106, Ch107, Ch108, Ch109, Ch110, Ch111, Ch112, Ch113, Ch114, Ch115, Ch116, Ch117, Ch118, Ch119, Ch120, Ch121, Ch122, Ch123, Ch124, Ch125, Ch126, Ch127, Ch128, Ch129, Ch130, Ch131, Ch132, Ch133, Ch134, Ch135, Ch136, Ch137, Ch138, Ch139, Ch140, Ch141, Ch142, Ch143, Ch144, Ch145, Ch146, Ch147, Ch148, Ch149, Ch150, Ch151, Ch152, Ch153, Ch154, Ch155, Ch156, Ch157, Ch158, Ch159, Ch160, Ch161, Ch162, Ch163, Ch164, Ch165, Ch166, Ch167, Ch168, Ch169, Ch170, Ch171, Ch172, Ch173, Ch174, Ch175, Ch176, Ch177, Ch178\">\n",
              "            178\n",
              "        </button>\n",
              "\n",
              "        \n",
              "    </td>\n",
              "</tr>\n",
              "\n",
              "\n",
              "<tr class=\"repr-element channels-c968189f-a9c0-41db-93d0-ac003e49f768 \">\n",
              "    <td class=\"repr-section-toggle-col\"></td>\n",
              "    <td>Head & sensor digitization</td>\n",
              "    \n",
              "    <td>Not available</td>\n",
              "    \n",
              "</tr>\n",
              "    \n",
              "\n",
              "\n",
              "\n",
              "\n",
              "\n",
              "\n",
              "\n",
              "<tr class=\"repr-section-header filters-5b41e718-80b5-4044-b8f7-f963ea712c6c\"  title=\"Hide section\" \n",
              "    onclick=\"toggleVisibility('filters-5b41e718-80b5-4044-b8f7-f963ea712c6c')\">\n",
              "    <th class=\"repr-section-toggle-col\">\n",
              "        <button>\n",
              "            \n",
              "            <span class=\"collapse-uncollapse-caret\"></span>\n",
              "        </button>\n",
              "    </th>\n",
              "    <th colspan=\"2\">\n",
              "        <strong>Filters</strong>\n",
              "    </th>\n",
              "</tr>\n",
              "\n",
              "<tr class=\"repr-element filters-5b41e718-80b5-4044-b8f7-f963ea712c6c \">\n",
              "    <td class=\"repr-section-toggle-col\"></td>\n",
              "    <td>Highpass</td>\n",
              "    <td>1.00 Hz</td>\n",
              "</tr>\n",
              "\n",
              "\n",
              "<tr class=\"repr-element filters-5b41e718-80b5-4044-b8f7-f963ea712c6c \">\n",
              "    <td class=\"repr-section-toggle-col\"></td>\n",
              "    <td>Lowpass</td>\n",
              "    <td>50.00 Hz</td>\n",
              "</tr>\n",
              "\n",
              "\n",
              "</table>"
            ]
          },
          "metadata": {},
          "execution_count": 11
        }
      ]
    },
    {
      "cell_type": "code",
      "source": [
        "raw.set_eeg_reference(\"average\")\n",
        ""
      ],
      "metadata": {
        "colab": {
          "base_uri": "https://localhost:8080/",
          "height": 429
        },
        "id": "94M-YW8fVcvx",
        "outputId": "01b39bba-3ebb-4541-a924-37ef1fbb08e9"
      },
      "execution_count": 12,
      "outputs": [
        {
          "output_type": "stream",
          "name": "stdout",
          "text": [
            "EEG channel type selected for re-referencing\n",
            "Applying average reference.\n",
            "Applying a custom ('EEG',) reference.\n"
          ]
        },
        {
          "output_type": "execute_result",
          "data": {
            "text/plain": [
              "<RawArray | 178 x 3156 (12.6 s), ~4.5 MB, data loaded>"
            ],
            "text/html": [
              "<script type=\"text/javascript\">\n",
              "    const toggleVisibility = (className) => {\n",
              "\n",
              "  const elements = document.querySelectorAll(`.${className}`)\n",
              "\n",
              "  elements.forEach(element => {\n",
              "    if (element.classList.contains('repr-section-header')) {\n",
              "      // Don't collapse the section header row.\n",
              "       return\n",
              "    }\n",
              "    if (element.classList.contains('repr-element-collapsed')) {\n",
              "      // Force a reflow to ensure the display change takes effect before removing the class\n",
              "      element.classList.remove('repr-element-collapsed')\n",
              "      element.offsetHeight // This forces the browser to recalculate layout\n",
              "      element.classList.remove('repr-element-faded')\n",
              "    } else {\n",
              "      // Start transition to hide the element\n",
              "      element.classList.add('repr-element-faded')\n",
              "      element.addEventListener('transitionend', handler = (e) => {\n",
              "        if (e.propertyName === 'opacity' && getComputedStyle(element).opacity === '0.2') {\n",
              "          element.classList.add('repr-element-collapsed')\n",
              "          element.removeEventListener('transitionend', handler)\n",
              "        }\n",
              "      });\n",
              "    }\n",
              "  });\n",
              "\n",
              "  // Take care of button (adjust caret)\n",
              "  const button = document.querySelectorAll(`.repr-section-header.${className} > th.repr-section-toggle-col > button`)[0]\n",
              "  button.classList.toggle('collapsed')\n",
              "\n",
              "  // Take care of the tooltip of the section header row\n",
              "  const sectionHeaderRow = document.querySelectorAll(`tr.repr-section-header.${className}`)[0]\n",
              "  sectionHeaderRow.classList.toggle('collapsed')\n",
              "  sectionHeaderRow.title = sectionHeaderRow.title === 'Hide section' ? 'Show section' : 'Hide section'\n",
              "}\n",
              "</script>\n",
              "\n",
              "<style type=\"text/css\">\n",
              "    table.repr.table.table-hover.table-striped.table-sm.table-responsive.small {\n",
              "  /* Don't make rows wider than they need to be. */\n",
              "  display: inline;\n",
              "}\n",
              "\n",
              "table > tbody > tr.repr-element > td {\n",
              "  /* Apply a tighter layout to the table cells. */\n",
              "  padding-top: 0.1rem;\n",
              "  padding-bottom: 0.1rem;\n",
              "  padding-right: 1rem;\n",
              "}\n",
              "\n",
              "table > tbody > tr > td.repr-section-toggle-col {\n",
              "  /* Remove background and border of the first cell in every row\n",
              "     (this row is only used for the collapse / uncollapse caret)\n",
              "\n",
              "     TODO: Need to find a good solution for VS Code that works in both\n",
              "           light and dark mode. */\n",
              "  border-color: transparent;\n",
              "  --bs-table-accent-bg: transparent;\n",
              "}\n",
              "\n",
              "tr.repr-section-header {\n",
              "  /* Remove stripes from section header rows */\n",
              "  background-color: transparent;\n",
              "  border-color: transparent;\n",
              "  --bs-table-striped-bg: transparent;\n",
              "  cursor: pointer;\n",
              "}\n",
              "\n",
              "tr.repr-section-header > th {\n",
              "  text-align: left !important;\n",
              "  vertical-align: middle;\n",
              "}\n",
              "\n",
              ".repr-element, tr.repr-element > td {\n",
              "  opacity: 1;\n",
              "  text-align: left !important;\n",
              "}\n",
              "\n",
              ".repr-element-faded {\n",
              "  transition: 0.3s ease;\n",
              "  opacity: 0.2;\n",
              "}\n",
              "\n",
              ".repr-element-collapsed {\n",
              "  display: none;\n",
              "}\n",
              "\n",
              "/* Collapse / uncollapse button and the caret it contains. */\n",
              ".repr-section-toggle-col button {\n",
              "  cursor: pointer;\n",
              "  width: 1rem;\n",
              "  background-color: transparent;\n",
              "  border-color: transparent;\n",
              "}\n",
              "\n",
              "span.collapse-uncollapse-caret {\n",
              "  width: 1rem;\n",
              "  height: 1rem;\n",
              "  display: block;\n",
              "  background-repeat: no-repeat;\n",
              "  background-position: left;\n",
              "  background-size: contain;\n",
              "}\n",
              "\n",
              "/* The collapse / uncollapse carets were copied from the free Font Awesome collection and adjusted. */\n",
              "\n",
              "/* Default to black carets for light mode */\n",
              ".repr-section-toggle-col > button.collapsed > span.collapse-uncollapse-caret {\n",
              "  background-image: url('data:image/svg+xml;charset=utf8,<svg xmlns=\"http://www.w3.org/2000/svg\" viewBox=\"0 0 256 512\"><!--!Font Awesome Free 6.5.2 by @fontawesome - https://fontawesome.com License - https://fontawesome.com/license/free Copyright 2024 Fonticons, Inc.--><path fill=\"black\" d=\"M246.6 278.6c12.5-12.5 12.5-32.8 0-45.3l-128-128c-9.2-9.2-22.9-11.9-34.9-6.9s-19.8 16.6-19.8 29.6l0 256c0 12.9 7.8 24.6 19.8 29.6s25.7 2.2 34.9-6.9l128-128z\"/></svg>');\n",
              "}\n",
              "\n",
              ".repr-section-toggle-col\n",
              "  > button:not(.collapsed)\n",
              "  > span.collapse-uncollapse-caret {\n",
              "  background-image: url('data:image/svg+xml;charset=utf8,<svg xmlns=\"http://www.w3.org/2000/svg\" viewBox=\"0 0 320 512\"><!--!Font Awesome Free 6.5.2 by @fontawesome - https://fontawesome.com License - https://fontawesome.com/license/free Copyright 2024 Fonticons, Inc.--><path fill=\"black\" d=\"M137.4 374.6c12.5 12.5 32.8 12.5 45.3 0l128-128c9.2-9.2 11.9-22.9 6.9-34.9s-16.6-19.8-29.6-19.8L32 192c-12.9 0-24.6 7.8-29.6 19.8s-2.2 25.7 6.9 34.9l128 128z\"/></svg>');\n",
              "}\n",
              "\n",
              "/* Use white carets for dark mode */\n",
              "@media (prefers-color-scheme: dark) {\n",
              "  .repr-section-toggle-col > button.collapsed > span.collapse-uncollapse-caret {\n",
              "    background-image: url('data:image/svg+xml;charset=utf8,<svg xmlns=\"http://www.w3.org/2000/svg\" viewBox=\"0 0 256 512\"><!--!Font Awesome Free 6.5.2 by @fontawesome - https://fontawesome.com License - https://fontawesome.com/license/free Copyright 2024 Fonticons, Inc.--><path fill=\"white\" d=\"M246.6 278.6c12.5-12.5 12.5-32.8 0-45.3l-128-128c-9.2-9.2-22.9-11.9-34.9-6.9s-19.8 16.6-19.8 29.6l0 256c0 12.9 7.8 24.6 19.8 29.6s25.7 2.2 34.9-6.9l128-128z\"/></svg>');\n",
              "  }\n",
              "\n",
              "  .repr-section-toggle-col\n",
              "    > button:not(.collapsed)\n",
              "    > span.collapse-uncollapse-caret {\n",
              "    background-image: url('data:image/svg+xml;charset=utf8,<svg xmlns=\"http://www.w3.org/2000/svg\" viewBox=\"0 0 320 512\"><!--!Font Awesome Free 6.5.2 by @fontawesome - https://fontawesome.com License - https://fontawesome.com/license/free Copyright 2024 Fonticons, Inc.--><path fill=\"white\" d=\"M137.4 374.6c12.5 12.5 32.8 12.5 45.3 0l128-128c9.2-9.2 11.9-22.9 6.9-34.9s-16.6-19.8-29.6-19.8L32 192c-12.9 0-24.6 7.8-29.6 19.8s-2.2 25.7 6.9 34.9l128 128z\"/></svg>');\n",
              "  }\n",
              "}\n",
              "\n",
              ".channel-names-btn {\n",
              "  padding: 0;\n",
              "  border: none;\n",
              "  background: none;\n",
              "  text-decoration: underline;\n",
              "  text-decoration-style: dashed;\n",
              "  cursor: pointer;\n",
              "  color: #0d6efd;\n",
              "}\n",
              "\n",
              ".channel-names-btn:hover {\n",
              "  color: #0a58ca;\n",
              "}\n",
              "</style>\n",
              "\n",
              "\n",
              "\n",
              "<table class=\"repr table table-hover table-striped table-sm table-responsive small\">\n",
              "    \n",
              "\n",
              "\n",
              "\n",
              "\n",
              "\n",
              "\n",
              "\n",
              "<tr class=\"repr-section-header general-4c166eca-0f50-40ee-b5f6-5fcd584f6472\"  title=\"Hide section\" \n",
              "    onclick=\"toggleVisibility('general-4c166eca-0f50-40ee-b5f6-5fcd584f6472')\">\n",
              "    <th class=\"repr-section-toggle-col\">\n",
              "        <button>\n",
              "            \n",
              "            <span class=\"collapse-uncollapse-caret\"></span>\n",
              "        </button>\n",
              "    </th>\n",
              "    <th colspan=\"2\">\n",
              "        <strong>General</strong>\n",
              "    </th>\n",
              "</tr>\n",
              "\n",
              "<tr class=\"repr-element general-4c166eca-0f50-40ee-b5f6-5fcd584f6472 \">\n",
              "    <td class=\"repr-section-toggle-col\"></td>\n",
              "    <td>MNE object type</td>\n",
              "    <td>RawArray</td>\n",
              "</tr>\n",
              "<tr class=\"repr-element general-4c166eca-0f50-40ee-b5f6-5fcd584f6472 \">\n",
              "    <td class=\"repr-section-toggle-col\"></td>\n",
              "    <td>Measurement date</td>\n",
              "    \n",
              "    <td>Unknown</td>\n",
              "    \n",
              "</tr>\n",
              "<tr class=\"repr-element general-4c166eca-0f50-40ee-b5f6-5fcd584f6472 \">\n",
              "    <td class=\"repr-section-toggle-col\"></td>\n",
              "    <td>Participant</td>\n",
              "    \n",
              "    <td>Unknown</td>\n",
              "    \n",
              "</tr>\n",
              "<tr class=\"repr-element general-4c166eca-0f50-40ee-b5f6-5fcd584f6472 \">\n",
              "    <td class=\"repr-section-toggle-col\"></td>\n",
              "    <td>Experimenter</td>\n",
              "    \n",
              "    <td>Unknown</td>\n",
              "    \n",
              "</tr>\n",
              "    \n",
              "\n",
              "\n",
              "\n",
              "\n",
              "\n",
              "\n",
              "\n",
              "<tr class=\"repr-section-header acquisition-d80571aa-8480-4daa-8248-91448246378c\" \n",
              "    title=\"Hide section\"  onclick=\"toggleVisibility('acquisition-d80571aa-8480-4daa-8248-91448246378c')\">\n",
              "    <th class=\"repr-section-toggle-col\">\n",
              "        <button>\n",
              "            \n",
              "            <span class=\"collapse-uncollapse-caret\"></span>\n",
              "        </button>\n",
              "    </th>\n",
              "    <th colspan=\"2\">\n",
              "        <strong>Acquisition</strong>\n",
              "    </th>\n",
              "</tr>\n",
              "\n",
              "<tr class=\"repr-element acquisition-d80571aa-8480-4daa-8248-91448246378c \">\n",
              "    <td class=\"repr-section-toggle-col\"></td>\n",
              "    <td>Duration</td>\n",
              "    <td>00:00:13 (HH:MM:SS)</td>\n",
              "</tr>\n",
              "\n",
              "\n",
              "\n",
              "\n",
              "\n",
              "\n",
              "\n",
              "\n",
              "<tr class=\"repr-element acquisition-d80571aa-8480-4daa-8248-91448246378c \">\n",
              "    <td class=\"repr-section-toggle-col\"></td>\n",
              "    <td>Sampling frequency</td>\n",
              "    <td>250.00 Hz</td>\n",
              "</tr>\n",
              "\n",
              "\n",
              "<tr class=\"repr-element acquisition-d80571aa-8480-4daa-8248-91448246378c \">\n",
              "    <td class=\"repr-section-toggle-col\"></td>\n",
              "    <td>Time points</td>\n",
              "    <td>3,156</td>\n",
              "</tr>\n",
              "\n",
              "\n",
              "    \n",
              "\n",
              "\n",
              "\n",
              "\n",
              "\n",
              "\n",
              "\n",
              "<tr class=\"repr-section-header channels-b0598bb0-e533-48a2-8bc6-87772904ae18\"  title=\"Hide section\" \n",
              "    onclick=\"toggleVisibility('channels-b0598bb0-e533-48a2-8bc6-87772904ae18')\">\n",
              "    <th class=\"repr-section-toggle-col\">\n",
              "        <button>\n",
              "            \n",
              "            <span class=\"collapse-uncollapse-caret\"></span>\n",
              "        </button>\n",
              "    </th>\n",
              "    <th colspan=\"2\">\n",
              "        <strong>Channels</strong>\n",
              "    </th>\n",
              "</tr>\n",
              "\n",
              "\n",
              "<tr class=\"repr-element channels-b0598bb0-e533-48a2-8bc6-87772904ae18 \">\n",
              "    <td class=\"repr-section-toggle-col\"></td>\n",
              "    <td>EEG</td>\n",
              "    <td>\n",
              "        <button class=\"channel-names-btn\" onclick=\"alert('Good EEG:\\n\\nCh1, Ch2, Ch3, Ch4, Ch5, Ch6, Ch7, Ch8, Ch9, Ch10, Ch11, Ch12, Ch13, Ch14, Ch15, Ch16, Ch17, Ch18, Ch19, Ch20, Ch21, Ch22, Ch23, Ch24, Ch25, Ch26, Ch27, Ch28, Ch29, Ch30, Ch31, Ch32, Ch33, Ch34, Ch35, Ch36, Ch37, Ch38, Ch39, Ch40, Ch41, Ch42, Ch43, Ch44, Ch45, Ch46, Ch47, Ch48, Ch49, Ch50, Ch51, Ch52, Ch53, Ch54, Ch55, Ch56, Ch57, Ch58, Ch59, Ch60, Ch61, Ch62, Ch63, Ch64, Ch65, Ch66, Ch67, Ch68, Ch69, Ch70, Ch71, Ch72, Ch73, Ch74, Ch75, Ch76, Ch77, Ch78, Ch79, Ch80, Ch81, Ch82, Ch83, Ch84, Ch85, Ch86, Ch87, Ch88, Ch89, Ch90, Ch91, Ch92, Ch93, Ch94, Ch95, Ch96, Ch97, Ch98, Ch99, Ch100, Ch101, Ch102, Ch103, Ch104, Ch105, Ch106, Ch107, Ch108, Ch109, Ch110, Ch111, Ch112, Ch113, Ch114, Ch115, Ch116, Ch117, Ch118, Ch119, Ch120, Ch121, Ch122, Ch123, Ch124, Ch125, Ch126, Ch127, Ch128, Ch129, Ch130, Ch131, Ch132, Ch133, Ch134, Ch135, Ch136, Ch137, Ch138, Ch139, Ch140, Ch141, Ch142, Ch143, Ch144, Ch145, Ch146, Ch147, Ch148, Ch149, Ch150, Ch151, Ch152, Ch153, Ch154, Ch155, Ch156, Ch157, Ch158, Ch159, Ch160, Ch161, Ch162, Ch163, Ch164, Ch165, Ch166, Ch167, Ch168, Ch169, Ch170, Ch171, Ch172, Ch173, Ch174, Ch175, Ch176, Ch177, Ch178')\" title=\"(Click to open in popup)&#13;&#13;Ch1, Ch2, Ch3, Ch4, Ch5, Ch6, Ch7, Ch8, Ch9, Ch10, Ch11, Ch12, Ch13, Ch14, Ch15, Ch16, Ch17, Ch18, Ch19, Ch20, Ch21, Ch22, Ch23, Ch24, Ch25, Ch26, Ch27, Ch28, Ch29, Ch30, Ch31, Ch32, Ch33, Ch34, Ch35, Ch36, Ch37, Ch38, Ch39, Ch40, Ch41, Ch42, Ch43, Ch44, Ch45, Ch46, Ch47, Ch48, Ch49, Ch50, Ch51, Ch52, Ch53, Ch54, Ch55, Ch56, Ch57, Ch58, Ch59, Ch60, Ch61, Ch62, Ch63, Ch64, Ch65, Ch66, Ch67, Ch68, Ch69, Ch70, Ch71, Ch72, Ch73, Ch74, Ch75, Ch76, Ch77, Ch78, Ch79, Ch80, Ch81, Ch82, Ch83, Ch84, Ch85, Ch86, Ch87, Ch88, Ch89, Ch90, Ch91, Ch92, Ch93, Ch94, Ch95, Ch96, Ch97, Ch98, Ch99, Ch100, Ch101, Ch102, Ch103, Ch104, Ch105, Ch106, Ch107, Ch108, Ch109, Ch110, Ch111, Ch112, Ch113, Ch114, Ch115, Ch116, Ch117, Ch118, Ch119, Ch120, Ch121, Ch122, Ch123, Ch124, Ch125, Ch126, Ch127, Ch128, Ch129, Ch130, Ch131, Ch132, Ch133, Ch134, Ch135, Ch136, Ch137, Ch138, Ch139, Ch140, Ch141, Ch142, Ch143, Ch144, Ch145, Ch146, Ch147, Ch148, Ch149, Ch150, Ch151, Ch152, Ch153, Ch154, Ch155, Ch156, Ch157, Ch158, Ch159, Ch160, Ch161, Ch162, Ch163, Ch164, Ch165, Ch166, Ch167, Ch168, Ch169, Ch170, Ch171, Ch172, Ch173, Ch174, Ch175, Ch176, Ch177, Ch178\">\n",
              "            178\n",
              "        </button>\n",
              "\n",
              "        \n",
              "    </td>\n",
              "</tr>\n",
              "\n",
              "\n",
              "<tr class=\"repr-element channels-b0598bb0-e533-48a2-8bc6-87772904ae18 \">\n",
              "    <td class=\"repr-section-toggle-col\"></td>\n",
              "    <td>Head & sensor digitization</td>\n",
              "    \n",
              "    <td>Not available</td>\n",
              "    \n",
              "</tr>\n",
              "    \n",
              "\n",
              "\n",
              "\n",
              "\n",
              "\n",
              "\n",
              "\n",
              "<tr class=\"repr-section-header filters-3adb7c48-4156-4de4-b1dd-63dc77027ab9\"  title=\"Hide section\" \n",
              "    onclick=\"toggleVisibility('filters-3adb7c48-4156-4de4-b1dd-63dc77027ab9')\">\n",
              "    <th class=\"repr-section-toggle-col\">\n",
              "        <button>\n",
              "            \n",
              "            <span class=\"collapse-uncollapse-caret\"></span>\n",
              "        </button>\n",
              "    </th>\n",
              "    <th colspan=\"2\">\n",
              "        <strong>Filters</strong>\n",
              "    </th>\n",
              "</tr>\n",
              "\n",
              "<tr class=\"repr-element filters-3adb7c48-4156-4de4-b1dd-63dc77027ab9 \">\n",
              "    <td class=\"repr-section-toggle-col\"></td>\n",
              "    <td>Highpass</td>\n",
              "    <td>1.00 Hz</td>\n",
              "</tr>\n",
              "\n",
              "\n",
              "<tr class=\"repr-element filters-3adb7c48-4156-4de4-b1dd-63dc77027ab9 \">\n",
              "    <td class=\"repr-section-toggle-col\"></td>\n",
              "    <td>Lowpass</td>\n",
              "    <td>50.00 Hz</td>\n",
              "</tr>\n",
              "\n",
              "\n",
              "</table>"
            ]
          },
          "metadata": {},
          "execution_count": 12
        }
      ]
    },
    {
      "cell_type": "code",
      "source": [
        "raw = mne.io.RawArray(X.T, info)\n",
        "\n",
        "montage = mne.channels.make_standard_montage(\"standard_1020\")\n",
        "raw.set_montage(montage, on_missing=\"ignore\")\n",
        "\n",
        "def clean_data(data):\n",
        "    return np.nan_to_num(data, nan=0.0, posinf=0.0, neginf=0.0)\n",
        "\n",
        "raw.apply_function(clean_data, channel_wise=False)\n",
        "\n",
        "print(\"Annotations in raw data:\", raw.annotations)\n",
        "raw.set_annotations(None)\n",
        "raw.interpolate_bads(reset_bads=True)\n",
        "\n",
        "raw.pick_types(eeg=True)\n",
        "\n",
        "raw.filter(1., 40., fir_design='firwin')\n",
        "\n",
        "raw.apply_function(clean_data, channel_wise=False)\n",
        "print(\"Final check - NaN values:\", np.isnan(raw.get_data()).any())\n",
        "print(\"Final check - Inf values:\", np.isinf(raw.get_data()).any())\n",
        "\n",
        "ica = ICA(n_components=15, random_state=97, max_iter=\"auto\")\n",
        "try:\n",
        "    ica.fit(raw)\n",
        "    print(\"ICA fitting successful!\")\n",
        "    ica.plot_components()\n",
        "    ica.exclude = [0, 1]  # Example exclusions\n",
        "    raw_clean = ica.apply(raw.copy())\n",
        "    print(\"ICA applied successfully.\")\n",
        "except ValueError as e:\n",
        "    print(\"ICA failed with error:\", e)\n"
      ],
      "metadata": {
        "colab": {
          "base_uri": "https://localhost:8080/"
        },
        "id": "qLOAms-gMJaI",
        "outputId": "47c078b5-d8c2-4f19-cae7-42c8734eaf33"
      },
      "execution_count": 34,
      "outputs": [
        {
          "output_type": "stream",
          "name": "stdout",
          "text": [
            "Creating RawArray with float64 data, n_channels=178, n_times=3156\n",
            "    Range : 0 ... 3155 =      0.000 ...    12.620 secs\n",
            "Ready.\n",
            "Annotations in raw data: <Annotations | 0 segments>\n",
            "Setting channel interpolation method to {'eeg': 'spline'}.\n",
            "NOTE: pick_types() is a legacy function. New code should use inst.pick(...).\n",
            "Filtering raw data in 1 contiguous segment\n",
            "Setting up band-pass filter from 1 - 40 Hz\n",
            "\n",
            "FIR filter parameters\n",
            "---------------------\n",
            "Designing a one-pass, zero-phase, non-causal bandpass filter:\n",
            "- Windowed time-domain design (firwin) method\n",
            "- Hamming window with 0.0194 passband ripple and 53 dB stopband attenuation\n",
            "- Lower passband edge: 1.00\n",
            "- Lower transition bandwidth: 1.00 Hz (-6 dB cutoff frequency: 0.50 Hz)\n",
            "- Upper passband edge: 40.00 Hz\n",
            "- Upper transition bandwidth: 10.00 Hz (-6 dB cutoff frequency: 45.00 Hz)\n",
            "- Filter length: 825 samples (3.300 s)\n",
            "\n"
          ]
        },
        {
          "output_type": "stream",
          "name": "stderr",
          "text": [
            "<ipython-input-34-7e812fbc0551>:13: RuntimeWarning: No bad channels to interpolate. Doing nothing...\n",
            "  raw.interpolate_bads(reset_bads=True)\n",
            "[Parallel(n_jobs=1)]: Done  17 tasks      | elapsed:    0.0s\n"
          ]
        },
        {
          "output_type": "stream",
          "name": "stdout",
          "text": [
            "Final check - NaN values: False\n",
            "Final check - Inf values: False\n",
            "Fitting ICA to data using 178 channels (please be patient, this may take a while)\n"
          ]
        },
        {
          "output_type": "stream",
          "name": "stderr",
          "text": [
            "[Parallel(n_jobs=1)]: Done  71 tasks      | elapsed:    0.1s\n",
            "[Parallel(n_jobs=1)]: Done 161 tasks      | elapsed:    0.2s\n"
          ]
        },
        {
          "output_type": "stream",
          "name": "stdout",
          "text": [
            "ICA failed with error: array must not contain infs or NaNs\n"
          ]
        },
        {
          "output_type": "stream",
          "name": "stderr",
          "text": [
            "/usr/local/lib/python3.10/dist-packages/mne/preprocessing/ica.py:885: RuntimeWarning: invalid value encountered in divide\n",
            "  data /= self.pre_whitener_\n"
          ]
        }
      ]
    },
    {
      "cell_type": "code",
      "source": [
        "n_times = len(raw.times)\n",
        "dummy_events = np.array([[i, 0, 1] for i in range(0, n_times, sfreq * 2)])\n",
        "event_id = {\"Dummy Event\": 1}\n",
        "epochs = mne.Epochs(raw, events=dummy_events, event_id=event_id, tmin=0, tmax=2, baseline=None)"
      ],
      "metadata": {
        "colab": {
          "base_uri": "https://localhost:8080/"
        },
        "id": "AguTgjpQML1l",
        "outputId": "27a3464f-9546-4ea5-9876-002f67a1460e"
      },
      "execution_count": 31,
      "outputs": [
        {
          "output_type": "stream",
          "name": "stdout",
          "text": [
            "Not setting metadata\n",
            "7 matching events found\n",
            "No baseline correction applied\n",
            "0 projection items activated\n"
          ]
        }
      ]
    },
    {
      "cell_type": "code",
      "source": [
        "output_path = \"preprocessed_eeg_data-raw.fif\"\n",
        "raw.save(output_path, overwrite=True)"
      ],
      "metadata": {
        "colab": {
          "base_uri": "https://localhost:8080/"
        },
        "id": "iLt43298OuQU",
        "outputId": "661b3d0d-21a1-45b0-9f83-cd0c72e94785"
      },
      "execution_count": 32,
      "outputs": [
        {
          "output_type": "stream",
          "name": "stdout",
          "text": [
            "Writing /content/preprocessed_eeg_data-raw.fif\n",
            "Closing /content/preprocessed_eeg_data-raw.fif\n",
            "[done]\n"
          ]
        }
      ]
    },
    {
      "cell_type": "code",
      "source": [
        "epochs_output_path = \"preprocessed_eeg_data-epochs.fif\"\n",
        "epochs.save(epochs_output_path, overwrite=True)\n",
        "\n",
        "print(f\"Preprocessed raw data saved to: {output_path}\")\n",
        "print(f\"Preprocessed epochs data saved to: {epochs_output_path}\")"
      ],
      "metadata": {
        "colab": {
          "base_uri": "https://localhost:8080/"
        },
        "id": "oNvaj8jVOzYE",
        "outputId": "62b2103e-6dfb-4715-f8ab-f2a14c6c63dd"
      },
      "execution_count": 33,
      "outputs": [
        {
          "output_type": "stream",
          "name": "stdout",
          "text": [
            "Using data from preloaded Raw for 7 events and 501 original time points ...\n",
            "1 bad epochs dropped\n",
            "Using data from preloaded Raw for 1 events and 501 original time points ...\n",
            "Using data from preloaded Raw for 6 events and 501 original time points ...\n",
            "Preprocessed raw data saved to: preprocessed_eeg_data-raw.fif\n",
            "Preprocessed epochs data saved to: preprocessed_eeg_data-epochs.fif\n"
          ]
        },
        {
          "output_type": "stream",
          "name": "stderr",
          "text": [
            "<ipython-input-33-32a686a5c2b7>:2: RuntimeWarning: This filename (preprocessed_eeg_data-epochs.fif) does not conform to MNE naming conventions. All epochs files should end with -epo.fif, -epo.fif.gz, _epo.fif or _epo.fif.gz\n",
            "  epochs.save(epochs_output_path, overwrite=True)\n"
          ]
        }
      ]
    },
    {
      "cell_type": "code",
      "source": [
        "import mne\n",
        "\n",
        "raw_file_path = \"preprocessed_eeg_data-raw.fif\"  # Update with your actual file path\n",
        "raw = mne.io.read_raw_fif(raw_file_path, preload=True)\n",
        "print(raw.info)\n",
        "raw.plot(n_channels=30, scalings='auto', title='Preprocessed Raw EEG Data', show=True)"
      ],
      "metadata": {
        "colab": {
          "base_uri": "https://localhost:8080/",
          "height": 1000
        },
        "id": "FPno-xtcO4wE",
        "outputId": "82729e23-7df9-40d0-ca25-ddefb9b58faf"
      },
      "execution_count": 37,
      "outputs": [
        {
          "output_type": "stream",
          "name": "stdout",
          "text": [
            "Opening raw data file preprocessed_eeg_data-raw.fif...\n",
            "    Range : 0 ... 3155 =      0.000 ...    12.620 secs\n",
            "Ready.\n",
            "Reading 0 ... 3155  =      0.000 ...    12.620 secs...\n",
            "<Info | 10 non-empty values\n",
            " bads: []\n",
            " ch_names: Ch1, Ch2, Ch3, Ch4, Ch5, Ch6, Ch7, Ch8, Ch9, Ch10, Ch11, Ch12, ...\n",
            " chs: 178 EEG\n",
            " custom_ref_applied: False\n",
            " dig: 3 items (3 Cardinal)\n",
            " file_id: 4 items (dict)\n",
            " highpass: 1.0 Hz\n",
            " lowpass: 40.0 Hz\n",
            " meas_date: unspecified\n",
            " meas_id: 4 items (dict)\n",
            " nchan: 178\n",
            " projs: []\n",
            " sfreq: 250.0 Hz\n",
            ">\n",
            "Using matplotlib as 2D backend.\n"
          ]
        },
        {
          "output_type": "display_data",
          "data": {
            "text/plain": [
              "<MNEBrowseFigure size 800x800 with 4 Axes>"
            ],
            "image/png": "[encoded data removed]"
          },
          "metadata": {}
        },
        {
          "output_type": "execute_result",
          "data": {
            "text/plain": [
              "<MNEBrowseFigure size 800x800 with 4 Axes>"
            ],
            "image/png": "[encoded data removed]"
          },
          "metadata": {},
          "execution_count": 37
        }
      ]
    },
    {
      "cell_type": "code",
      "source": [
        "epochs_file_path = \"preprocessed_eeg_data-epochs.fif\"  # Update with your actual file path\n",
        "epochs = mne.read_epochs(epochs_file_path, preload=True)\n",
        "print(epochs)\n",
        "epochs.plot(n_epochs=10, n_channels=10, scalings='auto', title='Preprocessed Epochs', show=True)"
      ],
      "metadata": {
        "colab": {
          "base_uri": "https://localhost:8080/",
          "height": 1000
        },
        "id": "OP127ojMTlJD",
        "outputId": "f4515721-22d4-4d1b-a185-e9d8f4b81c57"
      },
      "execution_count": 38,
      "outputs": [
        {
          "output_type": "stream",
          "name": "stdout",
          "text": [
            "Reading /content/preprocessed_eeg_data-epochs.fif ...\n",
            "    Found the data of interest:\n",
            "        t =       0.00 ...    2000.00 ms\n",
            "        0 CTF compensation matrices available\n",
            "Not setting metadata\n",
            "6 matching events found\n",
            "No baseline correction applied\n",
            "0 projection items activated\n"
          ]
        },
        {
          "output_type": "stream",
          "name": "stderr",
          "text": [
            "<ipython-input-38-d36d33cc2e26>:3: RuntimeWarning: This filename (preprocessed_eeg_data-epochs.fif) does not conform to MNE naming conventions. All epochs files should end with -epo.fif, -epo.fif.gz, _epo.fif or _epo.fif.gz\n",
            "  epochs = mne.read_epochs(epochs_file_path, preload=True)\n"
          ]
        },
        {
          "output_type": "stream",
          "name": "stdout",
          "text": [
            "<EpochsFIF | 6 events (all good), 0 – 2 s (baseline off), ~4.3 MB, data loaded,\n",
            " 'Dummy Event': 6>\n"
          ]
        },
        {
          "output_type": "display_data",
          "data": {
            "text/plain": [
              "<MNEBrowseFigure size 800x800 with 4 Axes>"
            ],
            "image/png": "[encoded data removed]"
          },
          "metadata": {}
        },
        {
          "output_type": "execute_result",
          "data": {
            "text/plain": [
              "<MNEBrowseFigure size 800x800 with 4 Axes>"
            ],
            "image/png": "[encoded data removed]"
          },
          "metadata": {},
          "execution_count": 38
        }
      ]
    },
    {
      "cell_type": "code",
      "source": [],
      "metadata": {
        "id": "sMli76F8UKmL"
      },
      "execution_count": null,
      "outputs": []
    }
  ]
}